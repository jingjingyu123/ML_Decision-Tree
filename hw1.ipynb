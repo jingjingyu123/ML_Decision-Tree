{
 "cells": [
  {
   "cell_type": "code",
   "execution_count": 1,
   "metadata": {},
   "outputs": [],
   "source": [
    "from math import log\n",
    "import numpy as np\n",
    "from time import time\n",
    "from collections import Counter\n",
    "import sys\n",
    "\n",
    "class Tree:\n",
    "    leaf = True\t# boolean if it is a final leaf of a tree or not\n",
    "    prediction = None # what is the prediction (if leaf)\n",
    "    feature = None # which feature to split on?\n",
    "    threshold = None # what threshold to split on?\n",
    "    left = None # left subtree\n",
    "    right = None # right subtree\n",
    "    \n",
    "    def __init__(self):\n",
    "        self.leaf = True\n",
    "        self.prediction = None\n",
    "        self.feature = None\n",
    "        self.threshold = None\n",
    "        self.left = None\n",
    "        self.right = None\n",
    "\n",
    "class Data:\n",
    "    \n",
    "    features = [] # list of lists (size: number_of_examples x number_of_features)\n",
    "    labels = [] # list of strings (lenght: number_of_examples)\n",
    "    \n",
    "    def __init__(self):\n",
    "        self.features = []\n",
    "        self.lebels = []\n",
    "    \n",
    "\n",
    "###################################################################"
   ]
  },
  {
   "cell_type": "code",
   "execution_count": 2,
   "metadata": {},
   "outputs": [],
   "source": [
    "def read_data(txt_path):\n",
    "    # TODO: function that will read the .txt file and store it in the data structure\n",
    "    # use the Data class defined above to store the information\n",
    "\n",
    "    data = Data()\n",
    "    data.features = []\n",
    "    data.labels = []\n",
    "    f = open(txt_path,'r')\n",
    "    out = f.readlines()\n",
    "    for line in out:\n",
    "        x = line.split(\",\")\n",
    "        data.features.append([float(i) for i in x[0:4]])\n",
    "        if x[4] == 'Iris-setosa\\n':\n",
    "            data.labels.append('Iris-setosa')\n",
    "        elif x[4] == 'Iris-versicolor\\n':\n",
    "            data.labels.append('Iris-versicolor')\n",
    "        else:\n",
    "            data.labels.append('Iris-virginica')\n",
    "    f.close()\n",
    "    return data\n",
    "\n",
    "def predict(tree, point):\n",
    "    # TODO: function that should return a prediction for the specific point (predicted label)\n",
    "    # base case\n",
    "    if(tree.leaf):\n",
    "        return tree.prediction\n",
    "    elif point[tree.feature] <= tree.threshold and tree.left:\n",
    "        return predict(tree.left, point)\n",
    "    else:\n",
    "        return predict(tree.right, point)\n",
    "\n",
    "def split_data(data, feature, threshold):\n",
    "    # TODO: function that given specific feature and the threshold will divide the data into two parts\n",
    "    left = Data()\n",
    "    left.features = []\n",
    "    left.labels = []\n",
    "    right = Data()\n",
    "    right.features = []\n",
    "    right.labels = []\n",
    "    # i am assuming feature uses index \n",
    "    for i in range(len(data.labels)):\n",
    "        if data.features[i][feature] <= threshold:\n",
    "            left.features.append(data.features[i])\n",
    "            left.labels.append(data.labels[i])\n",
    "        else:\n",
    "            right.features.append(data.features[i])\n",
    "            right.labels.append(data.labels[i])\n",
    "    return (left, right)\n",
    "\n",
    "def get_entropy(data):\n",
    "    # TODO: calculate entropy given data\n",
    "    setosa=0\n",
    "    versicolor=0\n",
    "    virginica=0\n",
    "    for i in data.labels:\n",
    "        if i == 'Iris-setosa':\n",
    "            setosa=setosa+1\n",
    "        if i == 'Iris-versicolor':\n",
    "            versicolor=versicolor+1\n",
    "        if i == 'Iris-virginica':\n",
    "            virginica=virginica+1\n",
    "    total=setosa+versicolor+virginica;\n",
    "#     print(total)\n",
    "    prob_setosa=setosa/total\n",
    "    prob_versicolor=versicolor/total\n",
    "    prob_virginica=virginica/total\n",
    "    \n",
    "    entropy = 0\n",
    "    if setosa != 0:\n",
    "        entropy = entropy - 1*prob_setosa*(log(prob_setosa)/log(2))\n",
    "    if versicolor != 0:\n",
    "        entropy = entropy - 1*prob_versicolor*(log(prob_versicolor)/log(2))\n",
    "    if virginica != 0:\n",
    "        -1*prob_virginica*(log(prob_virginica)/log(2))\n",
    "    return entropy\n",
    "\n",
    "def find_best_threshold(data, feature):\n",
    "    # TODO: iterate through data (along a single feature) to find best threshold (for a specified feature)\n",
    "    entropy = get_entropy(data)\n",
    "    best_threshold = None\n",
    "    best_gain = 0\n",
    "    \n",
    "    for i in range(len(data.labels)):\n",
    "        # to split in between two features in same class does not make sense\n",
    "        # but if not applicable delete the if condition\n",
    "        if (i != 0) and (data.labels[i] == data.labels[i-1]):\n",
    "            continue\n",
    "        left, right = split_data(data, feature, data.features[i][feature]) # data.features[i] means a specific point\n",
    "        if left.features and right.features:\n",
    "            wrighted_entropy = get_entropy(left)*len(left.features)/len(data.features) + get_entropy(right)*len(right.features)/len(data.features)\n",
    "            gain = entropy - wrighted_entropy\n",
    "            if gain > best_gain:\n",
    "                best_gain = gain\n",
    "                best_threshold = data.features[i][feature]\n",
    "    return best_gain, best_threshold\n",
    "\n",
    "def find_best_split(data):\n",
    "    # TODO: iterate through data along all features to find the best possible split overall\n",
    "    best_gain_0, best_threshold_0 = find_best_threshold(data, 0)\n",
    "    best_gain_1, best_threshold_1 = find_best_threshold(data, 1)\n",
    "    best_gain_2, best_threshold_2 = find_best_threshold(data, 2)\n",
    "    best_gain_3, best_threshold_3 = find_best_threshold(data, 3)\n",
    "    \n",
    "    best_gain = best_gain_0\n",
    "    best_feature = 0\n",
    "    best_threshold = best_threshold_0\n",
    "    \n",
    "    if(best_gain_1 > best_gain):\n",
    "        best_gain = best_gain_1\n",
    "        best_feature = 1\n",
    "        best_threshold = best_threshold_1\n",
    "    if(best_gain_2 > best_gain):\n",
    "        best_gain = best_gain_2\n",
    "        best_feature = 2\n",
    "        best_threshold = best_threshold_2\n",
    "    if(best_gain_3 > best_gain):\n",
    "        best_gain = best_gain_3\n",
    "        best_feature = 3\n",
    "        best_threshold = best_threshold_3\n",
    "    \n",
    "    return best_feature, best_threshold\n",
    "\n",
    "\n",
    "def c45(data):\n",
    "    # TODO: Construct a decision tree with the data and return it.\n",
    "    tree = c45_helper(data, [], len(data.features[0]))\n",
    "    return tree\n",
    "\n",
    "def c45_helper(data, used_features_list, num_features): \n",
    "    node = Tree() # node is Tree Class\n",
    "    if len(used_features_list) == num_features: # if no other features\n",
    "        if len(set(data.labels)) != 1:\n",
    "            print(\"warning: not pure. reached:\", num_features)\n",
    "            print(data.labels)\n",
    "        node.leaf = True\n",
    "        node.prediction = max(data.labels,key=data.labels.count)\n",
    "        return node\n",
    "    elif len(set(data.labels)) == 1: # if the node is pure\n",
    "        node.leaf = True\n",
    "        node.prediction = max(data.labels,key=data.labels.count)\n",
    "        return node\n",
    "    \n",
    "    best_feature, best_threshold = find_best_split(data)\n",
    "    node.leaf = False\n",
    "    node.prediction = None\n",
    "    node.feature = best_feature # which feature to split on?\n",
    "    \n",
    "    used_features_list.append(best_feature) # append feature to used list\n",
    "    \n",
    "    node.threshold = best_threshold # what threshold to split on?\n",
    "    \n",
    "    left_data, right_data = split_data(data, best_feature, best_threshold)\n",
    "    \n",
    "    node.left = c45_helper(left_data, used_features_list, num_features) # left subtree\n",
    "    node.right = c45_helper(right_data, used_features_list, num_features) # right subtree\n",
    "    \n",
    "    \n",
    "    return node\n",
    "def test(data, tree):\n",
    "    # TODO: given data and a constructed tree - return a list of strings (predicted label for every example in the data)\n",
    "    predictions = []\n",
    "    for i in range(len(data.features)):\n",
    "        predictions.append(predict(tree, data.features[i]))\n",
    "#         if predict(tree, data.features[i]) == \n",
    "        \n",
    "    return predictions\n",
    "###################################################################\n",
    "\n"
   ]
  },
  {
   "cell_type": "code",
   "execution_count": 3,
   "metadata": {},
   "outputs": [],
   "source": [
    "data = read_data(\"hw1_train.txt\")"
   ]
  },
  {
   "cell_type": "code",
   "execution_count": 4,
   "metadata": {},
   "outputs": [
    {
     "name": "stdout",
     "output_type": "stream",
     "text": [
      "warning: not pure. reached: 4\n",
      "['Iris-versicolor', 'Iris-virginica', 'Iris-versicolor', 'Iris-versicolor', 'Iris-versicolor', 'Iris-versicolor']\n",
      "warning: not pure. reached: 4\n",
      "['Iris-virginica', 'Iris-virginica', 'Iris-virginica', 'Iris-virginica', 'Iris-virginica', 'Iris-virginica', 'Iris-virginica', 'Iris-virginica', 'Iris-virginica', 'Iris-virginica', 'Iris-virginica', 'Iris-virginica', 'Iris-virginica', 'Iris-virginica', 'Iris-virginica', 'Iris-virginica', 'Iris-virginica', 'Iris-versicolor', 'Iris-virginica', 'Iris-virginica', 'Iris-virginica', 'Iris-virginica', 'Iris-virginica', 'Iris-virginica', 'Iris-virginica', 'Iris-virginica', 'Iris-virginica', 'Iris-virginica', 'Iris-virginica', 'Iris-virginica', 'Iris-virginica', 'Iris-virginica']\n"
     ]
    }
   ],
   "source": [
    "tree = c45(data)"
   ]
  },
  {
   "cell_type": "code",
   "execution_count": 5,
   "metadata": {},
   "outputs": [],
   "source": [
    "data_test = read_data(\"hw1_train.txt\")"
   ]
  },
  {
   "cell_type": "code",
   "execution_count": 6,
   "metadata": {},
   "outputs": [
    {
     "data": {
      "text/plain": [
       "100"
      ]
     },
     "execution_count": 6,
     "metadata": {},
     "output_type": "execute_result"
    }
   ],
   "source": [
    "len(test(data_test, tree))"
   ]
  },
  {
   "cell_type": "code",
   "execution_count": 7,
   "metadata": {},
   "outputs": [],
   "source": [
    "data_test = read_data(\"hw1_test.txt\")"
   ]
  },
  {
   "cell_type": "code",
   "execution_count": 8,
   "metadata": {},
   "outputs": [],
   "source": [
    "cnt = 0\n",
    "preds = test(data_test, tree)\n",
    "for i in range(len(data_test.labels)):\n",
    "    if (data_test.labels[i] == preds[i]):\n",
    "        cnt = cnt + 1"
   ]
  },
  {
   "cell_type": "code",
   "execution_count": 9,
   "metadata": {},
   "outputs": [
    {
     "data": {
      "text/plain": [
       "48"
      ]
     },
     "execution_count": 9,
     "metadata": {},
     "output_type": "execute_result"
    }
   ],
   "source": [
    "cnt"
   ]
  },
  {
   "cell_type": "code",
   "execution_count": 10,
   "metadata": {},
   "outputs": [
    {
     "name": "stdout",
     "output_type": "stream",
     "text": [
      "\n",
      "                    f: None t: None p: Iris-virginica\n",
      "\n",
      "          f: 3 t: 1.6 p: None\n",
      "\n",
      "                              f: None t: None p: Iris-virginica\n",
      "\n",
      "                    f: 2 t: 5.1 p: None\n",
      "\n",
      "                                        f: None t: None p: Iris-versicolor\n",
      "\n",
      "                              f: 2 t: 4.6 p: None\n",
      "\n",
      "                                        f: None t: None p: Iris-versicolor\n",
      "\n",
      "f: 2 t: 1.9 p: None\n",
      "\n",
      "          f: None t: None p: Iris-setosa\n"
     ]
    }
   ],
   "source": [
    "COUNT = [10]  \n",
    "\n",
    "def print2DUtil(root, space) : \n",
    "  \n",
    "    # Base case  \n",
    "    if (root == None) : \n",
    "        return\n",
    "  \n",
    "    # Increase distance between levels  \n",
    "    space += COUNT[0] \n",
    "  \n",
    "    # Process right child first  \n",
    "    print2DUtil(root.right, space)  \n",
    "  \n",
    "    # Print current node after space  \n",
    "    # count  \n",
    "    print()  \n",
    "    for i in range(COUNT[0], space): \n",
    "        print(end = \" \")  \n",
    "    print(\"f:\",root.feature, \"t:\",root.threshold, \"p:\",root.prediction)  \n",
    "  \n",
    "    # Process left child  \n",
    "    print2DUtil(root.left, space)  \n",
    "    \n",
    "# Wrapper over print2DUtil()  \n",
    "def print2D(root) : \n",
    "      \n",
    "    # space=[0] \n",
    "    # Pass initial space count as 0  \n",
    "    print2DUtil(root, 0) \n",
    "    \n",
    "print2D(tree) "
   ]
  },
  {
   "cell_type": "code",
   "execution_count": 11,
   "metadata": {},
   "outputs": [
    {
     "data": {
      "text/plain": [
       "'Iris-setosa'"
      ]
     },
     "execution_count": 11,
     "metadata": {},
     "output_type": "execute_result"
    }
   ],
   "source": [
    "tree.left.prediction"
   ]
  },
  {
   "cell_type": "code",
   "execution_count": null,
   "metadata": {},
   "outputs": [],
   "source": []
  }
 ],
 "metadata": {
  "kernelspec": {
   "display_name": "Python 3",
   "language": "python",
   "name": "python3"
  },
  "language_info": {
   "codemirror_mode": {
    "name": "ipython",
    "version": 3
   },
   "file_extension": ".py",
   "mimetype": "text/x-python",
   "name": "python",
   "nbconvert_exporter": "python",
   "pygments_lexer": "ipython3",
   "version": "3.7.7"
  }
 },
 "nbformat": 4,
 "nbformat_minor": 4
}
